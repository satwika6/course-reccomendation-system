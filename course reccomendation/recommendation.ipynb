{
 "cells": [
  {
   "cell_type": "code",
   "execution_count": 3,
   "id": "5a783329-0c51-4c84-a5a3-884c478dd714",
   "metadata": {},
   "outputs": [],
   "source": [
    "import pandas as pd"
   ]
  },
  {
   "cell_type": "code",
   "execution_count": 5,
   "id": "9906f7e4-ff6c-4adb-8a52-f2684c079cc2",
   "metadata": {},
   "outputs": [
    {
     "data": {
      "text/html": [
       "<div>\n",
       "<style scoped>\n",
       "    .dataframe tbody tr th:only-of-type {\n",
       "        vertical-align: middle;\n",
       "    }\n",
       "\n",
       "    .dataframe tbody tr th {\n",
       "        vertical-align: top;\n",
       "    }\n",
       "\n",
       "    .dataframe thead th {\n",
       "        text-align: right;\n",
       "    }\n",
       "</style>\n",
       "<table border=\"1\" class=\"dataframe\">\n",
       "  <thead>\n",
       "    <tr style=\"text-align: right;\">\n",
       "      <th></th>\n",
       "      <th>abbreviation</th>\n",
       "      <th>courseNumber</th>\n",
       "      <th>description</th>\n",
       "      <th>title</th>\n",
       "      <th>gradeAverage</th>\n",
       "      <th>letterAverage</th>\n",
       "      <th>openSeats</th>\n",
       "      <th>enrolledPercentage</th>\n",
       "      <th>enrolled</th>\n",
       "      <th>enrolledMax</th>\n",
       "      <th>units</th>\n",
       "    </tr>\n",
       "  </thead>\n",
       "  <tbody>\n",
       "    <tr>\n",
       "      <th>0</th>\n",
       "      <td>A,RESEC</td>\n",
       "      <td>201</td>\n",
       "      <td>Basic concepts of micro and welfare economics:...</td>\n",
       "      <td>Production, Industrial Organization, and Regul...</td>\n",
       "      <td>3.708163</td>\n",
       "      <td>A-</td>\n",
       "      <td>16</td>\n",
       "      <td>0.0</td>\n",
       "      <td>0</td>\n",
       "      <td>16</td>\n",
       "      <td>4.0</td>\n",
       "    </tr>\n",
       "    <tr>\n",
       "      <th>1</th>\n",
       "      <td>A,RESEC</td>\n",
       "      <td>210</td>\n",
       "      <td>This is an introduction to probability theory ...</td>\n",
       "      <td>Probability and Statistics</td>\n",
       "      <td>3.446497</td>\n",
       "      <td>B+</td>\n",
       "      <td>24</td>\n",
       "      <td>0.0</td>\n",
       "      <td>0</td>\n",
       "      <td>24</td>\n",
       "      <td>4.0</td>\n",
       "    </tr>\n",
       "    <tr>\n",
       "      <th>2</th>\n",
       "      <td>A,RESEC</td>\n",
       "      <td>213</td>\n",
       "      <td>Standard and advanced econometric techniques a...</td>\n",
       "      <td>Applied Econometrics</td>\n",
       "      <td>3.565951</td>\n",
       "      <td>A-</td>\n",
       "      <td>50</td>\n",
       "      <td>0.0</td>\n",
       "      <td>0</td>\n",
       "      <td>50</td>\n",
       "      <td>4.0</td>\n",
       "    </tr>\n",
       "    <tr>\n",
       "      <th>3</th>\n",
       "      <td>A,RESEC</td>\n",
       "      <td>219A</td>\n",
       "      <td>Techniques for preparing econometric studies, ...</td>\n",
       "      <td>Econometric Project Workshop</td>\n",
       "      <td>3.805505</td>\n",
       "      <td>A-</td>\n",
       "      <td>18</td>\n",
       "      <td>0.0</td>\n",
       "      <td>0</td>\n",
       "      <td>18</td>\n",
       "      <td>2.0</td>\n",
       "    </tr>\n",
       "    <tr>\n",
       "      <th>4</th>\n",
       "      <td>A,RESEC</td>\n",
       "      <td>249</td>\n",
       "      <td>Presentation and criticism of ongoing research...</td>\n",
       "      <td>Agricultural, Food, and Resource Policy Workshop</td>\n",
       "      <td>-1.000000</td>\n",
       "      <td>NaN</td>\n",
       "      <td>20</td>\n",
       "      <td>0.0</td>\n",
       "      <td>0</td>\n",
       "      <td>20</td>\n",
       "      <td>1.0</td>\n",
       "    </tr>\n",
       "  </tbody>\n",
       "</table>\n",
       "</div>"
      ],
      "text/plain": [
       "  abbreviation courseNumber  \\\n",
       "0      A,RESEC          201   \n",
       "1      A,RESEC          210   \n",
       "2      A,RESEC          213   \n",
       "3      A,RESEC         219A   \n",
       "4      A,RESEC          249   \n",
       "\n",
       "                                         description  \\\n",
       "0  Basic concepts of micro and welfare economics:...   \n",
       "1  This is an introduction to probability theory ...   \n",
       "2  Standard and advanced econometric techniques a...   \n",
       "3  Techniques for preparing econometric studies, ...   \n",
       "4  Presentation and criticism of ongoing research...   \n",
       "\n",
       "                                               title  gradeAverage  \\\n",
       "0  Production, Industrial Organization, and Regul...      3.708163   \n",
       "1                         Probability and Statistics      3.446497   \n",
       "2                               Applied Econometrics      3.565951   \n",
       "3                       Econometric Project Workshop      3.805505   \n",
       "4   Agricultural, Food, and Resource Policy Workshop     -1.000000   \n",
       "\n",
       "  letterAverage  openSeats  enrolledPercentage  enrolled  enrolledMax units  \n",
       "0            A-         16                 0.0         0           16   4.0  \n",
       "1            B+         24                 0.0         0           24   4.0  \n",
       "2            A-         50                 0.0         0           50   4.0  \n",
       "3            A-         18                 0.0         0           18   2.0  \n",
       "4           NaN         20                 0.0         0           20   1.0  "
      ]
     },
     "execution_count": 5,
     "metadata": {},
     "output_type": "execute_result"
    }
   ],
   "source": [
    "# Load the CSV into a DataFrame\n",
    "df_courses = pd.read_csv('courses.csv')\n",
    "\n",
    "# Display the first few rows of the DataFrame to verify it loaded correctly\n",
    "df_courses.head()"
   ]
  },
  {
   "cell_type": "code",
   "execution_count": 7,
   "id": "dec84e43-8374-46c3-a9e7-a86d17fa39e0",
   "metadata": {},
   "outputs": [
    {
     "data": {
      "text/plain": [
       "(2591, 11)"
      ]
     },
     "execution_count": 7,
     "metadata": {},
     "output_type": "execute_result"
    }
   ],
   "source": [
    "df_courses.shape"
   ]
  },
  {
   "cell_type": "code",
   "execution_count": null,
   "id": "969a089e-4fcb-435b-9f83-e6dbd76c368d",
   "metadata": {},
   "outputs": [],
   "source": []
  }
 ],
 "metadata": {
  "kernelspec": {
   "display_name": "Python 3 (ipykernel)",
   "language": "python",
   "name": "python3"
  },
  "language_info": {
   "codemirror_mode": {
    "name": "ipython",
    "version": 3
   },
   "file_extension": ".py",
   "mimetype": "text/x-python",
   "name": "python",
   "nbconvert_exporter": "python",
   "pygments_lexer": "ipython3",
   "version": "3.9.15"
  }
 },
 "nbformat": 4,
 "nbformat_minor": 5
}
